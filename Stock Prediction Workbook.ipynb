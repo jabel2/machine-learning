{
 "cells": [
  {
   "cell_type": "code",
   "execution_count": 36,
   "metadata": {},
   "outputs": [],
   "source": [
    "import matplotlib.pyplot as plt\n",
    "import tensorflow as tf\n",
    "\n",
    "from iexfinance.stocks import Stock\n",
    "from iexfinance.stocks import get_historical_data\n",
    "from iexfinance.stocks import get_historical_intraday\n",
    "from datetime import datetime\n",
    "import pandas as pd"
   ]
  },
  {
   "cell_type": "code",
   "execution_count": 37,
   "metadata": {},
   "outputs": [
    {
     "data": {
      "text/html": [
       "<div>\n",
       "<style scoped>\n",
       "    .dataframe tbody tr th:only-of-type {\n",
       "        vertical-align: middle;\n",
       "    }\n",
       "\n",
       "    .dataframe tbody tr th {\n",
       "        vertical-align: top;\n",
       "    }\n",
       "\n",
       "    .dataframe thead th {\n",
       "        text-align: right;\n",
       "    }\n",
       "</style>\n",
       "<table border=\"1\" class=\"dataframe\">\n",
       "  <thead>\n",
       "    <tr style=\"text-align: right;\">\n",
       "      <th></th>\n",
       "      <th>open</th>\n",
       "      <th>high</th>\n",
       "      <th>low</th>\n",
       "      <th>close</th>\n",
       "      <th>volume</th>\n",
       "    </tr>\n",
       "    <tr>\n",
       "      <th>date</th>\n",
       "      <th></th>\n",
       "      <th></th>\n",
       "      <th></th>\n",
       "      <th></th>\n",
       "      <th></th>\n",
       "    </tr>\n",
       "  </thead>\n",
       "  <tbody>\n",
       "    <tr>\n",
       "      <th>2017-03-17</th>\n",
       "      <td>16.59</td>\n",
       "      <td>17.69</td>\n",
       "      <td>16.54</td>\n",
       "      <td>17.23</td>\n",
       "      <td>9366957</td>\n",
       "    </tr>\n",
       "    <tr>\n",
       "      <th>2017-03-20</th>\n",
       "      <td>17.10</td>\n",
       "      <td>17.20</td>\n",
       "      <td>16.55</td>\n",
       "      <td>17.10</td>\n",
       "      <td>2252963</td>\n",
       "    </tr>\n",
       "    <tr>\n",
       "      <th>2017-03-21</th>\n",
       "      <td>17.07</td>\n",
       "      <td>17.32</td>\n",
       "      <td>16.50</td>\n",
       "      <td>16.52</td>\n",
       "      <td>1785613</td>\n",
       "    </tr>\n",
       "    <tr>\n",
       "      <th>2017-03-22</th>\n",
       "      <td>16.47</td>\n",
       "      <td>16.53</td>\n",
       "      <td>16.00</td>\n",
       "      <td>16.05</td>\n",
       "      <td>1047949</td>\n",
       "    </tr>\n",
       "    <tr>\n",
       "      <th>2017-03-23</th>\n",
       "      <td>16.07</td>\n",
       "      <td>16.25</td>\n",
       "      <td>15.75</td>\n",
       "      <td>15.96</td>\n",
       "      <td>1256039</td>\n",
       "    </tr>\n",
       "  </tbody>\n",
       "</table>\n",
       "</div>"
      ],
      "text/plain": [
       "             open   high    low  close   volume\n",
       "date                                           \n",
       "2017-03-17  16.59  17.69  16.54  17.23  9366957\n",
       "2017-03-20  17.10  17.20  16.55  17.10  2252963\n",
       "2017-03-21  17.07  17.32  16.50  16.52  1785613\n",
       "2017-03-22  16.47  16.53  16.00  16.05  1047949\n",
       "2017-03-23  16.07  16.25  15.75  15.96  1256039"
      ]
     },
     "execution_count": 37,
     "metadata": {},
     "output_type": "execute_result"
    }
   ],
   "source": [
    "#create stock object based on ticker\n",
    "goos = Stock('GOOS')\n",
    "\n",
    "#data range\n",
    "start = datetime(2017,3,17)\n",
    "end = datetime(2019,1,25)\n",
    "\n",
    "#pull historical data for ticker\n",
    "goos_data = get_historical_data(\"GOOS\", start, end, output_format='pandas')\n",
    "goos_data.head()"
   ]
  },
  {
   "cell_type": "code",
   "execution_count": 38,
   "metadata": {},
   "outputs": [
    {
     "data": {
      "text/plain": [
       "<matplotlib.axes._subplots.AxesSubplot at 0x7f2334747fd0>"
      ]
     },
     "execution_count": 38,
     "metadata": {},
     "output_type": "execute_result"
    },
    {
     "data": {
      "image/png": "[encoded data removed]",
      "text/plain": [
       "<Figure size 432x288 with 1 Axes>"
      ]
     },
     "metadata": {
      "needs_background": "light"
     },
     "output_type": "display_data"
    }
   ],
   "source": [
    "#plot\n",
    "goos_data.plot(y='high')"
   ]
  },
  {
   "cell_type": "code",
   "execution_count": 39,
   "metadata": {},
   "outputs": [
    {
     "data": {
      "text/html": [
       "<div>\n",
       "<style scoped>\n",
       "    .dataframe tbody tr th:only-of-type {\n",
       "        vertical-align: middle;\n",
       "    }\n",
       "\n",
       "    .dataframe tbody tr th {\n",
       "        vertical-align: top;\n",
       "    }\n",
       "\n",
       "    .dataframe thead th {\n",
       "        text-align: right;\n",
       "    }\n",
       "</style>\n",
       "<table border=\"1\" class=\"dataframe\">\n",
       "  <thead>\n",
       "    <tr style=\"text-align: right;\">\n",
       "      <th></th>\n",
       "      <th>average</th>\n",
       "      <th>changeOverTime</th>\n",
       "      <th>close</th>\n",
       "      <th>date</th>\n",
       "      <th>high</th>\n",
       "      <th>label</th>\n",
       "      <th>low</th>\n",
       "      <th>marketAverage</th>\n",
       "      <th>marketChangeOverTime</th>\n",
       "      <th>marketClose</th>\n",
       "      <th>marketHigh</th>\n",
       "      <th>marketLow</th>\n",
       "      <th>marketNotional</th>\n",
       "      <th>marketNumberOfTrades</th>\n",
       "      <th>marketOpen</th>\n",
       "      <th>marketVolume</th>\n",
       "      <th>notional</th>\n",
       "      <th>numberOfTrades</th>\n",
       "      <th>open</th>\n",
       "      <th>volume</th>\n",
       "    </tr>\n",
       "    <tr>\n",
       "      <th>minute</th>\n",
       "      <th></th>\n",
       "      <th></th>\n",
       "      <th></th>\n",
       "      <th></th>\n",
       "      <th></th>\n",
       "      <th></th>\n",
       "      <th></th>\n",
       "      <th></th>\n",
       "      <th></th>\n",
       "      <th></th>\n",
       "      <th></th>\n",
       "      <th></th>\n",
       "      <th></th>\n",
       "      <th></th>\n",
       "      <th></th>\n",
       "      <th></th>\n",
       "      <th></th>\n",
       "      <th></th>\n",
       "      <th></th>\n",
       "      <th></th>\n",
       "    </tr>\n",
       "  </thead>\n",
       "  <tbody>\n",
       "    <tr>\n",
       "      <th>09:30</th>\n",
       "      <td>-1.000</td>\n",
       "      <td>NaN</td>\n",
       "      <td>NaN</td>\n",
       "      <td>20190125</td>\n",
       "      <td>-1.00</td>\n",
       "      <td>09:30 AM</td>\n",
       "      <td>-1.000</td>\n",
       "      <td>47.038</td>\n",
       "      <td>0.000000</td>\n",
       "      <td>47.170</td>\n",
       "      <td>47.18</td>\n",
       "      <td>46.950</td>\n",
       "      <td>1.347957e+06</td>\n",
       "      <td>81</td>\n",
       "      <td>46.960</td>\n",
       "      <td>28657</td>\n",
       "      <td>0.0</td>\n",
       "      <td>0</td>\n",
       "      <td>NaN</td>\n",
       "      <td>0</td>\n",
       "    </tr>\n",
       "    <tr>\n",
       "      <th>09:31</th>\n",
       "      <td>47.122</td>\n",
       "      <td>-48.122</td>\n",
       "      <td>47.085</td>\n",
       "      <td>20190125</td>\n",
       "      <td>47.14</td>\n",
       "      <td>09:31 AM</td>\n",
       "      <td>47.085</td>\n",
       "      <td>47.126</td>\n",
       "      <td>0.001871</td>\n",
       "      <td>47.055</td>\n",
       "      <td>47.25</td>\n",
       "      <td>47.000</td>\n",
       "      <td>1.170946e+06</td>\n",
       "      <td>121</td>\n",
       "      <td>47.138</td>\n",
       "      <td>24847</td>\n",
       "      <td>28273.0</td>\n",
       "      <td>2</td>\n",
       "      <td>47.14</td>\n",
       "      <td>600</td>\n",
       "    </tr>\n",
       "    <tr>\n",
       "      <th>09:32</th>\n",
       "      <td>47.192</td>\n",
       "      <td>-48.192</td>\n",
       "      <td>47.250</td>\n",
       "      <td>20190125</td>\n",
       "      <td>47.25</td>\n",
       "      <td>09:32 AM</td>\n",
       "      <td>47.100</td>\n",
       "      <td>47.165</td>\n",
       "      <td>0.002700</td>\n",
       "      <td>47.290</td>\n",
       "      <td>47.30</td>\n",
       "      <td>47.030</td>\n",
       "      <td>8.229751e+05</td>\n",
       "      <td>109</td>\n",
       "      <td>47.090</td>\n",
       "      <td>17449</td>\n",
       "      <td>42473.0</td>\n",
       "      <td>5</td>\n",
       "      <td>47.10</td>\n",
       "      <td>900</td>\n",
       "    </tr>\n",
       "    <tr>\n",
       "      <th>09:33</th>\n",
       "      <td>-1.000</td>\n",
       "      <td>NaN</td>\n",
       "      <td>NaN</td>\n",
       "      <td>20190125</td>\n",
       "      <td>-1.00</td>\n",
       "      <td>09:33 AM</td>\n",
       "      <td>-1.000</td>\n",
       "      <td>47.371</td>\n",
       "      <td>0.007079</td>\n",
       "      <td>47.479</td>\n",
       "      <td>47.48</td>\n",
       "      <td>47.218</td>\n",
       "      <td>6.092438e+05</td>\n",
       "      <td>100</td>\n",
       "      <td>47.290</td>\n",
       "      <td>12861</td>\n",
       "      <td>0.0</td>\n",
       "      <td>0</td>\n",
       "      <td>NaN</td>\n",
       "      <td>0</td>\n",
       "    </tr>\n",
       "    <tr>\n",
       "      <th>09:34</th>\n",
       "      <td>47.293</td>\n",
       "      <td>-48.293</td>\n",
       "      <td>47.220</td>\n",
       "      <td>20190125</td>\n",
       "      <td>47.38</td>\n",
       "      <td>09:34 AM</td>\n",
       "      <td>47.220</td>\n",
       "      <td>47.323</td>\n",
       "      <td>0.006059</td>\n",
       "      <td>47.250</td>\n",
       "      <td>47.48</td>\n",
       "      <td>47.150</td>\n",
       "      <td>7.812974e+05</td>\n",
       "      <td>128</td>\n",
       "      <td>47.475</td>\n",
       "      <td>16510</td>\n",
       "      <td>14188.0</td>\n",
       "      <td>3</td>\n",
       "      <td>47.38</td>\n",
       "      <td>300</td>\n",
       "    </tr>\n",
       "  </tbody>\n",
       "</table>\n",
       "</div>"
      ],
      "text/plain": [
       "        average  changeOverTime   close      date   high     label     low  \\\n",
       "minute                                                                       \n",
       "09:30    -1.000             NaN     NaN  20190125  -1.00  09:30 AM  -1.000   \n",
       "09:31    47.122         -48.122  47.085  20190125  47.14  09:31 AM  47.085   \n",
       "09:32    47.192         -48.192  47.250  20190125  47.25  09:32 AM  47.100   \n",
       "09:33    -1.000             NaN     NaN  20190125  -1.00  09:33 AM  -1.000   \n",
       "09:34    47.293         -48.293  47.220  20190125  47.38  09:34 AM  47.220   \n",
       "\n",
       "        marketAverage  marketChangeOverTime  marketClose  marketHigh  \\\n",
       "minute                                                                 \n",
       "09:30          47.038              0.000000       47.170       47.18   \n",
       "09:31          47.126              0.001871       47.055       47.25   \n",
       "09:32          47.165              0.002700       47.290       47.30   \n",
       "09:33          47.371              0.007079       47.479       47.48   \n",
       "09:34          47.323              0.006059       47.250       47.48   \n",
       "\n",
       "        marketLow  marketNotional  marketNumberOfTrades  marketOpen  \\\n",
       "minute                                                                \n",
       "09:30      46.950    1.347957e+06                    81      46.960   \n",
       "09:31      47.000    1.170946e+06                   121      47.138   \n",
       "09:32      47.030    8.229751e+05                   109      47.090   \n",
       "09:33      47.218    6.092438e+05                   100      47.290   \n",
       "09:34      47.150    7.812974e+05                   128      47.475   \n",
       "\n",
       "        marketVolume  notional  numberOfTrades   open  volume  \n",
       "minute                                                         \n",
       "09:30          28657       0.0               0    NaN       0  \n",
       "09:31          24847   28273.0               2  47.14     600  \n",
       "09:32          17449   42473.0               5  47.10     900  \n",
       "09:33          12861       0.0               0    NaN       0  \n",
       "09:34          16510   14188.0               3  47.38     300  "
      ]
     },
     "execution_count": 39,
     "metadata": {},
     "output_type": "execute_result"
    }
   ],
   "source": [
    "day = datetime(2019,1,25)\n",
    "goos_daily = get_historical_intraday(\"GOOS\", day, output_format='pandas')\n",
    "goos_daily.head()"
   ]
  },
  {
   "cell_type": "code",
   "execution_count": 40,
   "metadata": {},
   "outputs": [
    {
     "data": {
      "text/plain": [
       "<matplotlib.axes._subplots.AxesSubplot at 0x7f20b945aa20>"
      ]
     },
     "execution_count": 40,
     "metadata": {},
     "output_type": "execute_result"
    },
    {
     "data": {
      "image/png": "[encoded data removed]",
      "text/plain": [
       "<Figure size 432x288 with 1 Axes>"
      ]
     },
     "metadata": {
      "needs_background": "light"
     },
     "output_type": "display_data"
    }
   ],
   "source": [
    "#drop null sets\n",
    "goos_daily.dropna(inplace = True)\n",
    "\n",
    "#plot\n",
    "goos_daily.plot(y='high')"
   ]
  },
  {
   "cell_type": "code",
   "execution_count": 102,
   "metadata": {},
   "outputs": [],
   "source": [
    "#Long Short Term Memory Test\n",
    "from sklearn.preprocessing import MinMaxScaler\n",
    "from keras.models import Sequential\n",
    "from keras.layers import Dense, Dropout, LSTM\n",
    "import numpy as np"
   ]
  },
  {
   "cell_type": "code",
   "execution_count": 103,
   "metadata": {},
   "outputs": [],
   "source": [
    "#creating dataframe\n",
    "stock = Stock('GOOS')\n",
    "start = datetime(2017,3,17)\n",
    "end = datetime(2019,1,25)\n",
    "stock_data = get_historical_data(\"GOOS\", start, end, output_format='pandas')\n",
    "stock_data.reset_index(inplace=True)\n",
    "new_data = pd.DataFrame(index=range(0,len(stock_data)),columns=['date', 'close'])\n",
    "for i in range(0,len(stock_data)):\n",
    "    new_data['date'][i] = stock_data['date'][i]\n",
    "    new_data['close'][i] = stock_data['close'][i]"
   ]
  },
  {
   "cell_type": "code",
   "execution_count": 104,
   "metadata": {},
   "outputs": [
    {
     "name": "stderr",
     "output_type": "stream",
     "text": [
      "/home/abel/anaconda3/envs/tf_gpu/lib/python3.6/site-packages/sklearn/utils/validation.py:595: DataConversionWarning: Data with input dtype object was converted to float64 by MinMaxScaler.\n",
      "  warnings.warn(msg, DataConversionWarning)\n"
     ]
    }
   ],
   "source": [
    "#setting index\n",
    "new_data.index = new_data.date\n",
    "new_data.drop('date', axis=1, inplace=True)\n",
    "\n",
    "#creating train and test sets\n",
    "dataset = new_data.values\n",
    "\n",
    "train = dataset[0:300,:]\n",
    "valid = dataset[300:,:]\n",
    "\n",
    "#converting dataset into x_train and y_train\n",
    "scaler = MinMaxScaler(feature_range=(0, 1))\n",
    "scaled_data = scaler.fit_transform(dataset)\n",
    "\n",
    "x_train, y_train = [], []\n",
    "for i in range(60,len(train)):\n",
    "    x_train.append(scaled_data[i-60:i,0])\n",
    "    y_train.append(scaled_data[i,0])\n",
    "x_train, y_train = np.array(x_train), np.array(y_train)\n",
    "\n",
    "x_train = np.reshape(x_train, (x_train.shape[0],x_train.shape[1],1))\n"
   ]
  },
  {
   "cell_type": "code",
   "execution_count": 105,
   "metadata": {},
   "outputs": [
    {
     "name": "stdout",
     "output_type": "stream",
     "text": [
      "Epoch 1/1\n",
      " - 22s - loss: 0.0045\n"
     ]
    },
    {
     "data": {
      "text/plain": [
       "<keras.callbacks.History at 0x7f20b051cda0>"
      ]
     },
     "execution_count": 105,
     "metadata": {},
     "output_type": "execute_result"
    }
   ],
   "source": [
    "# create and fit the LSTM network\n",
    "model = Sequential()\n",
    "model.add(LSTM(units=50, return_sequences=True, input_shape=(x_train.shape[1],1)))\n",
    "model.add(LSTM(units=50))\n",
    "model.add(Dense(1))\n",
    "\n",
    "model.compile(loss='mean_squared_error', optimizer='adam')\n",
    "model.fit(x_train, y_train, epochs=1, batch_size=1, verbose=2)"
   ]
  },
  {
   "cell_type": "code",
   "execution_count": 106,
   "metadata": {},
   "outputs": [],
   "source": [
    "#predicting 246 values, using past 60 from the train data\n",
    "inputs = new_data[len(new_data) - len(valid) - 60:].values\n",
    "inputs = inputs.reshape(-1,1)\n",
    "inputs  = scaler.transform(inputs)\n",
    "\n",
    "X_test = []\n",
    "for i in range(60,inputs.shape[0]):\n",
    "    X_test.append(inputs[i-60:i,0])\n",
    "X_test = np.array(X_test)\n",
    "\n",
    "X_test = np.reshape(X_test, (X_test.shape[0],X_test.shape[1],1))\n",
    "closing_price = model.predict(X_test)\n",
    "closing_price = scaler.inverse_transform(closing_price)"
   ]
  },
  {
   "cell_type": "code",
   "execution_count": 107,
   "metadata": {},
   "outputs": [
    {
     "data": {
      "text/plain": [
       "6.481014831976492"
      ]
     },
     "execution_count": 107,
     "metadata": {},
     "output_type": "execute_result"
    }
   ],
   "source": [
    "#results\n",
    "rms = np.sqrt(np.mean(np.power((valid-closing_price),2)))\n",
    "rms"
   ]
  },
  {
   "cell_type": "code",
   "execution_count": 108,
   "metadata": {},
   "outputs": [
    {
     "name": "stderr",
     "output_type": "stream",
     "text": [
      "/home/abel/anaconda3/envs/tf_gpu/lib/python3.6/site-packages/ipykernel_launcher.py:4: SettingWithCopyWarning: \n",
      "A value is trying to be set on a copy of a slice from a DataFrame.\n",
      "Try using .loc[row_indexer,col_indexer] = value instead\n",
      "\n",
      "See the caveats in the documentation: http://pandas.pydata.org/pandas-docs/stable/indexing.html#indexing-view-versus-copy\n",
      "  after removing the cwd from sys.path.\n",
      "/home/abel/anaconda3/envs/tf_gpu/lib/python3.6/site-packages/ipykernel_launcher.py:5: SettingWithCopyWarning: \n",
      "A value is trying to be set on a copy of a slice from a DataFrame.\n",
      "Try using .loc[row_indexer,col_indexer] = value instead\n",
      "\n",
      "See the caveats in the documentation: http://pandas.pydata.org/pandas-docs/stable/indexing.html#indexing-view-versus-copy\n",
      "  \"\"\"\n"
     ]
    },
    {
     "data": {
      "text/plain": [
       "[<matplotlib.lines.Line2D at 0x7f20af1006a0>,\n",
       " <matplotlib.lines.Line2D at 0x7f20af100860>]"
      ]
     },
     "execution_count": 108,
     "metadata": {},
     "output_type": "execute_result"
    },
    {
     "data": {
      "image/png": "[encoded data removed]",
      "text/plain": [
       "<Figure size 432x288 with 1 Axes>"
      ]
     },
     "metadata": {
      "needs_background": "light"
     },
     "output_type": "display_data"
    }
   ],
   "source": [
    "#plotting\n",
    "train = new_data[:300]\n",
    "valid = new_data[300:]\n",
    "valid['prediction'] = 0.0\n",
    "valid['predictions'] = closing_price\n",
    "plt.plot(train['close'])\n",
    "plt.plot(valid[['close', 'predictions']])"
   ]
  },
  {
   "cell_type": "code",
   "execution_count": 114,
   "metadata": {},
   "outputs": [
    {
     "data": {
      "text/plain": [
       "date\n",
       "2019-01-18    44.167324\n",
       "2019-01-22    44.506844\n",
       "2019-01-23    44.863445\n",
       "2019-01-24    45.193829\n",
       "2019-01-25    45.317173\n",
       "Name: predictions, dtype: float32"
      ]
     },
     "execution_count": 114,
     "metadata": {},
     "output_type": "execute_result"
    }
   ],
   "source": [
    "valid['predictions'].tail()"
   ]
  },
  {
   "cell_type": "code",
   "execution_count": 115,
   "metadata": {},
   "outputs": [
    {
     "data": {
      "text/html": [
       "<div>\n",
       "<style scoped>\n",
       "    .dataframe tbody tr th:only-of-type {\n",
       "        vertical-align: middle;\n",
       "    }\n",
       "\n",
       "    .dataframe tbody tr th {\n",
       "        vertical-align: top;\n",
       "    }\n",
       "\n",
       "    .dataframe thead th {\n",
       "        text-align: right;\n",
       "    }\n",
       "</style>\n",
       "<table border=\"1\" class=\"dataframe\">\n",
       "  <thead>\n",
       "    <tr style=\"text-align: right;\">\n",
       "      <th></th>\n",
       "      <th>date</th>\n",
       "      <th>open</th>\n",
       "      <th>high</th>\n",
       "      <th>low</th>\n",
       "      <th>close</th>\n",
       "      <th>volume</th>\n",
       "    </tr>\n",
       "  </thead>\n",
       "  <tbody>\n",
       "    <tr>\n",
       "      <th>463</th>\n",
       "      <td>2019-01-18</td>\n",
       "      <td>50.47</td>\n",
       "      <td>52.1800</td>\n",
       "      <td>49.87</td>\n",
       "      <td>50.08</td>\n",
       "      <td>2572498</td>\n",
       "    </tr>\n",
       "    <tr>\n",
       "      <th>464</th>\n",
       "      <td>2019-01-22</td>\n",
       "      <td>49.41</td>\n",
       "      <td>51.5400</td>\n",
       "      <td>49.18</td>\n",
       "      <td>50.05</td>\n",
       "      <td>2033101</td>\n",
       "    </tr>\n",
       "    <tr>\n",
       "      <th>465</th>\n",
       "      <td>2019-01-23</td>\n",
       "      <td>50.08</td>\n",
       "      <td>50.7300</td>\n",
       "      <td>48.79</td>\n",
       "      <td>49.65</td>\n",
       "      <td>1761791</td>\n",
       "    </tr>\n",
       "    <tr>\n",
       "      <th>466</th>\n",
       "      <td>2019-01-24</td>\n",
       "      <td>47.77</td>\n",
       "      <td>47.8500</td>\n",
       "      <td>44.16</td>\n",
       "      <td>46.05</td>\n",
       "      <td>7666863</td>\n",
       "    </tr>\n",
       "    <tr>\n",
       "      <th>467</th>\n",
       "      <td>2019-01-25</td>\n",
       "      <td>46.96</td>\n",
       "      <td>49.1121</td>\n",
       "      <td>46.81</td>\n",
       "      <td>49.11</td>\n",
       "      <td>3062178</td>\n",
       "    </tr>\n",
       "  </tbody>\n",
       "</table>\n",
       "</div>"
      ],
      "text/plain": [
       "          date   open     high    low  close   volume\n",
       "463 2019-01-18  50.47  52.1800  49.87  50.08  2572498\n",
       "464 2019-01-22  49.41  51.5400  49.18  50.05  2033101\n",
       "465 2019-01-23  50.08  50.7300  48.79  49.65  1761791\n",
       "466 2019-01-24  47.77  47.8500  44.16  46.05  7666863\n",
       "467 2019-01-25  46.96  49.1121  46.81  49.11  3062178"
      ]
     },
     "execution_count": 115,
     "metadata": {},
     "output_type": "execute_result"
    }
   ],
   "source": [
    "stock_data.tail()"
   ]
  },
  {
   "cell_type": "code",
   "execution_count": null,
   "metadata": {},
   "outputs": [],
   "source": []
  }
 ],
 "metadata": {
  "kernelspec": {
   "display_name": "Python 3",
   "language": "python",
   "name": "python3"
  },
  "language_info": {
   "codemirror_mode": {
    "name": "ipython",
    "version": 3
   },
   "file_extension": ".py",
   "mimetype": "text/x-python",
   "name": "python",
   "nbconvert_exporter": "python",
   "pygments_lexer": "ipython3",
   "version": "3.6.8"
  }
 },
 "nbformat": 4,
 "nbformat_minor": 2
}
